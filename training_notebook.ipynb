{
 "cells": [
  {
   "cell_type": "code",
   "execution_count": 1,
   "metadata": {},
   "outputs": [],
   "source": [
    "import tensorflow as tf\n",
    "from tensorflow.keras import datasets, layers, models"
   ]
  },
  {
   "cell_type": "code",
   "execution_count": 2,
   "metadata": {},
   "outputs": [],
   "source": [
    "# Load the MNIST dataset\n",
    "(train_images, train_labels), (test_images, test_labels) = datasets.mnist.load_data()"
   ]
  },
  {
   "cell_type": "code",
   "execution_count": 3,
   "metadata": {},
   "outputs": [],
   "source": [
    "# Normalize pixel values to be between 0 and 1\n",
    "train_images, test_images = train_images / 255.0, test_images / 255.0"
   ]
  },
  {
   "cell_type": "code",
   "execution_count": 4,
   "metadata": {},
   "outputs": [],
   "source": [
    "# Reshape images to add a channel dimension\n",
    "train_images = train_images.reshape((train_images.shape[0], 28, 28, 1))\n",
    "test_images = test_images.reshape((test_images.shape[0], 28, 28, 1))\n"
   ]
  },
  {
   "cell_type": "code",
   "execution_count": 5,
   "metadata": {},
   "outputs": [],
   "source": [
    "# Define the CNN model\n",
    "model = models.Sequential([\n",
    "    layers.Conv2D(32, (3, 3), activation='relu', input_shape=(28, 28, 1)),\n",
    "    layers.MaxPooling2D((2, 2)),\n",
    "    layers.Conv2D(64, (3, 3), activation='relu'),\n",
    "    layers.MaxPooling2D((2, 2)),\n",
    "    layers.Conv2D(64, (3, 3), activation='relu'),\n",
    "    layers.Flatten(),\n",
    "    layers.Dense(64, activation='relu'),\n",
    "    layers.Dense(10, activation='softmax')\n",
    "])"
   ]
  },
  {
   "cell_type": "code",
   "execution_count": 6,
   "metadata": {},
   "outputs": [],
   "source": [
    "# Compile the model\n",
    "model.compile(optimizer='adam',\n",
    "              loss='sparse_categorical_crossentropy',\n",
    "              metrics=['accuracy'])"
   ]
  },
  {
   "cell_type": "code",
   "execution_count": 7,
   "metadata": {},
   "outputs": [
    {
     "name": "stdout",
     "output_type": "stream",
     "text": [
      "Epoch 1/10\n",
      "938/938 [==============================] - 35s 37ms/step - loss: 0.1761 - accuracy: 0.9458 - val_loss: 0.0639 - val_accuracy: 0.9770\n",
      "Epoch 2/10\n",
      "938/938 [==============================] - 30s 32ms/step - loss: 0.0504 - accuracy: 0.9839 - val_loss: 0.0378 - val_accuracy: 0.9868\n",
      "Epoch 3/10\n",
      "938/938 [==============================] - 29s 31ms/step - loss: 0.0355 - accuracy: 0.9892 - val_loss: 0.0358 - val_accuracy: 0.9888\n",
      "Epoch 4/10\n",
      "938/938 [==============================] - 28s 30ms/step - loss: 0.0278 - accuracy: 0.9912 - val_loss: 0.0345 - val_accuracy: 0.9892\n",
      "Epoch 5/10\n",
      "938/938 [==============================] - 29s 31ms/step - loss: 0.0215 - accuracy: 0.9934 - val_loss: 0.0347 - val_accuracy: 0.9894\n",
      "Epoch 6/10\n",
      "938/938 [==============================] - 29s 31ms/step - loss: 0.0198 - accuracy: 0.9938 - val_loss: 0.0304 - val_accuracy: 0.9901\n",
      "Epoch 7/10\n",
      "938/938 [==============================] - 29s 31ms/step - loss: 0.0153 - accuracy: 0.9950 - val_loss: 0.0289 - val_accuracy: 0.9913\n",
      "Epoch 8/10\n",
      "938/938 [==============================] - 29s 31ms/step - loss: 0.0105 - accuracy: 0.9968 - val_loss: 0.0304 - val_accuracy: 0.9920\n",
      "Epoch 9/10\n",
      "938/938 [==============================] - 30s 32ms/step - loss: 0.0122 - accuracy: 0.9960 - val_loss: 0.0309 - val_accuracy: 0.9918\n",
      "Epoch 10/10\n",
      "938/938 [==============================] - 30s 32ms/step - loss: 0.0098 - accuracy: 0.9966 - val_loss: 0.0389 - val_accuracy: 0.9899\n"
     ]
    },
    {
     "data": {
      "text/plain": [
       "<keras.callbacks.History at 0x116f2241c30>"
      ]
     },
     "execution_count": 7,
     "metadata": {},
     "output_type": "execute_result"
    }
   ],
   "source": [
    "# Train the model\n",
    "model.fit(train_images, train_labels, epochs=10, batch_size=64, validation_data=(test_images, test_labels))\n"
   ]
  },
  {
   "cell_type": "code",
   "execution_count": 8,
   "metadata": {},
   "outputs": [
    {
     "name": "stdout",
     "output_type": "stream",
     "text": [
      "313/313 [==============================] - 2s 5ms/step - loss: 0.0389 - accuracy: 0.9899\n",
      "Test accuracy: 0.9898999929428101\n"
     ]
    }
   ],
   "source": [
    "# Evaluate the model on test data\n",
    "test_loss, test_acc = model.evaluate(test_images, test_labels)\n",
    "print('Test accuracy:', test_acc)"
   ]
  },
  {
   "cell_type": "code",
   "execution_count": 10,
   "metadata": {},
   "outputs": [],
   "source": [
    "model.save(\"model\\mnist_cnn_model.h5\")"
   ]
  }
 ],
 "metadata": {
  "kernelspec": {
   "display_name": "tensorflow_env",
   "language": "python",
   "name": "python3"
  },
  "language_info": {
   "codemirror_mode": {
    "name": "ipython",
    "version": 3
   },
   "file_extension": ".py",
   "mimetype": "text/x-python",
   "name": "python",
   "nbconvert_exporter": "python",
   "pygments_lexer": "ipython3",
   "version": "3.10.6"
  }
 },
 "nbformat": 4,
 "nbformat_minor": 2
}
